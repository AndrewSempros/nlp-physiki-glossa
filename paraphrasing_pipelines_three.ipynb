{
 "cells": [
  {
   "cell_type": "code",
   "execution_count": null,
   "id": "338b875f",
   "metadata": {},
   "outputs": [],
   "source": [
    "import os\n",
    "import nltk\n",
    "import warnings"
   ]
  },
  {
   "cell_type": "code",
   "execution_count": null,
   "id": "56fa1318",
   "metadata": {},
   "outputs": [],
   "source": [
    "warnings.filterwarnings(\"ignore\")\n",
    "from transformers import logging as hf_logging\n",
    "hf_logging.set_verbosity_error()"
   ]
  },
  {
   "cell_type": "code",
   "execution_count": null,
   "id": "8a7f9929",
   "metadata": {},
   "outputs": [],
   "source": [
    "os.environ['TOKENIZERS_PARALLELISM'] = 'false'"
   ]
  },
  {
   "cell_type": "code",
   "execution_count": null,
   "id": "e190bccb",
   "metadata": {},
   "outputs": [],
   "source": [
    "try:\n",
    "    nltk.data.find('tokenizers/punkt')\n",
    "except LookupError:\n",
    "    nltk.download('punkt', quiet=True)"
   ]
  },
  {
   "cell_type": "code",
   "execution_count": null,
   "id": "fa9be755",
   "metadata": {},
   "outputs": [],
   "source": [
    "import builtins\n",
    "_orig_print = builtins.print\n",
    "builtins.print = lambda *args, **kwargs: None"
   ]
  },
  {
   "cell_type": "code",
   "execution_count": null,
   "id": "51e4bd34",
   "metadata": {},
   "outputs": [],
   "source": [
    "from transformers import pipeline"
   ]
  },
  {
   "cell_type": "code",
   "execution_count": null,
   "id": "e2eb18ef",
   "metadata": {},
   "outputs": [],
   "source": [
    "t5_pipeline = pipeline(\n",
    "    \"text2text-generation\",\n",
    "    model=\"Vamsi/T5_Paraphrase_Paws\",\n",
    "    tokenizer=\"Vamsi/T5_Paraphrase_Paws\",\n",
    "    framework=\"pt\",\n",
    "    device=0\n",
    ")"
   ]
  },
  {
   "cell_type": "code",
   "execution_count": null,
   "id": "a3217851",
   "metadata": {},
   "outputs": [],
   "source": [
    "pegasus_pipeline = pipeline(\n",
    "    \"text2text-generation\",\n",
    "    model=\"tuner007/pegasus_paraphrase\",\n",
    "    tokenizer=\"tuner007/pegasus_paraphrase\",\n",
    "    framework=\"pt\",\n",
    "    device=0\n",
    ")"
   ]
  },
  {
   "cell_type": "code",
   "execution_count": null,
   "id": "e67e9530",
   "metadata": {},
   "outputs": [],
   "source": [
    "humarin_pipeline = pipeline(\n",
    "    \"text2text-generation\",\n",
    "    model=\"humarin/chatgpt_paraphraser_on_T5_base\",\n",
    "    tokenizer=\"humarin/chatgpt_paraphraser_on_T5_base\",\n",
    "    framework=\"pt\",\n",
    "    device=0\n",
    ")"
   ]
  },
  {
   "cell_type": "code",
   "execution_count": null,
   "id": "49e8fdee",
   "metadata": {},
   "outputs": [],
   "source": [
    "builtins.print = _orig_print"
   ]
  },
  {
   "cell_type": "code",
   "execution_count": null,
   "id": "7da91eae",
   "metadata": {},
   "outputs": [],
   "source": [
    "from nltk.tokenize import sent_tokenize\n",
    "from difflib import SequenceMatcher"
   ]
  },
  {
   "cell_type": "code",
   "execution_count": null,
   "id": "4ce13300",
   "metadata": {},
   "outputs": [],
   "source": [
    "common_kwargs = {\n",
    "    \"do_sample\": True,\n",
    "    \"top_k\": 40,\n",
    "    \"top_p\": 0.92,\n",
    "    \"temperature\": 0.85,\n",
    "    \"num_return_sequences\": 5,\n",
    "    \"max_length\": 96\n",
    "}"
   ]
  },
  {
   "cell_type": "code",
   "execution_count": null,
   "id": "d294a16c",
   "metadata": {
    "lines_to_next_cell": 1
   },
   "outputs": [],
   "source": [
    "texts = {\n",
    "    \"Text1\": (\n",
    "        \"Today is our dragon boat festival, in our Chinese culture, to celebrate it with all safe and great in our lives. \"\n",
    "        \"Hope you too, to enjoy it as my deepest wishes. Thank your message to show our words to the doctor, as his next contract checking, to all of us. \"\n",
    "        \"I got this message to see the approved message. In fact, I have received the message from the professor to show me a couple of days ago. \"\n",
    "        \"I am very appreciated the full support of the professor for our Springer proceedings publication.\"\n",
    "    ),\n",
    "    \"Text2\": (\n",
    "        \"During our final discuss, I told him about the new submission — the one we were waiting since last autumn, \"\n",
    "        \"but the updates was confusing as it not included the full feedback from reviewer or maybe editor? \"\n",
    "        \"Anyway, I believe the team, although bit delay and less communication at recent days, they really tried best for paper and cooperation. \"\n",
    "        \"We should be grateful, I mean all of us, for the acceptance and efforts until the Springer link came finally last week, I think. \"\n",
    "        \"Also, kindly remind me please, if the doctor still plan for the acknowledgments section edit before he sends again. \"\n",
    "        \"Because I didn’t see that part final yet, or maybe I missed, I apologize if so. Overall, let us make sure all are safe and celebrate the outcome with strong coffee and future targets.\"\n",
    "    )\n",
    "}"
   ]
  },
  {
   "cell_type": "code",
   "execution_count": null,
   "id": "577d9344",
   "metadata": {
    "lines_to_next_cell": 1
   },
   "outputs": [],
   "source": [
    "def best_candidate(original: str, candidates: list) -> str:\n",
    "    ratios = [(SequenceMatcher(None, original, cand).ratio(), cand) for cand in candidates]\n",
    "    return sorted(ratios, key=lambda x: x[0])[0][1]"
   ]
  },
  {
   "cell_type": "code",
   "execution_count": null,
   "id": "eeaabbad",
   "metadata": {
    "lines_to_next_cell": 1
   },
   "outputs": [],
   "source": [
    "def reconstruct(text: str, name: str, pipe):\n",
    "    print(f\"\\n=== {name} ===\")\n",
    "    sentences = sent_tokenize(text)\n",
    "    paraphrased = []\n",
    "    for sent in sentences:\n",
    "        try:\n",
    "            input_text = sent\n",
    "            if name.startswith(\"T5\"):\n",
    "                input_text = \"paraphrase: \" + sent\n",
    "            outputs = pipe(input_text, **common_kwargs)\n",
    "            candidates = [o['generated_text'].strip().replace('Paraphrase:', '') for o in outputs]\n",
    "            chosen = best_candidate(sent, candidates)\n",
    "        except Exception:\n",
    "            chosen = sent\n",
    "        paraphrased.append(chosen)\n",
    "    print(\" \".join(paraphrased))"
   ]
  },
  {
   "cell_type": "code",
   "execution_count": null,
   "id": "ce1db0cc",
   "metadata": {},
   "outputs": [],
   "source": [
    "if __name__ == \"__main__\":\n",
    "    for label, txt in texts.items():\n",
    "        reconstruct(txt, f\"T5 PAWS Paraphraser ({label})\", t5_pipeline)\n",
    "        reconstruct(txt, f\"Pegasus Paraphraser ({label})\", pegasus_pipeline)\n",
    "        reconstruct(txt, f\"Humarin ChatGPT Paraphraser ({label})\", humarin_pipeline)"
   ]
  }
 ],
 "metadata": {
  "jupytext": {
   "cell_metadata_filter": "-all",
   "formats": "ipynb,py:percent",
   "main_language": "python"
  }
 },
 "nbformat": 4,
 "nbformat_minor": 5
}
